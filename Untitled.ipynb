{
 "cells": [
  {
   "cell_type": "markdown",
   "metadata": {},
   "source": [
    "## eps业务\n",
    "### 初始化\n",
    "> 开始以下初始化步骤，进行一些默认配置的初始化\n",
    "> * initFixedTimeTempletTask 固定模板初始化任务,把固定的12个模板添加到数据库\n",
    "> * initEpsTypeTask\n",
    "> * initEpsRoute —主要是初始化事件中的到mq的路由\n",
    "> * initServerTask\n",
    "> * autoPartitionTask —— eps_event_log与eps_trigger_log自动分区\n",
    "> * threadPoolMgr\n",
    "> * epsLogReceiver\n",
    "> * epsProtoReceiver\n",
    "\n",
    "### 主要业务功能\n",
    "\n",
    "#### 时间模板配置\n",
    "#### 参数配制\n",
    "####  事件规则\n",
    "> * 查询联动\n",
    "> * 添加联动\n",
    "> * 删除联动\n",
    "> * \n",
    "\n",
    "#### 事件规则联动配置\n",
    "\n",
    "#### 事件日志————事件量较大，所以需要定期分区\n",
    "> * 查询事件日志列表\n",
    "> * 查询事件详情\n"
   ]
  },
  {
   "cell_type": "code",
   "execution_count": null,
   "metadata": {},
   "outputs": [],
   "source": []
  }
 ],
 "metadata": {
  "kernelspec": {
   "display_name": "SciJava",
   "language": "groovy",
   "name": "scijava"
  },
  "language_info": {
   "codemirror_mode": "groovy",
   "file_extension": "",
   "mimetype": "",
   "name": "scijava",
   "nbconverter_exporter": "",
   "pygments_lexer": "groovy",
   "version": "1.0"
  }
 },
 "nbformat": 4,
 "nbformat_minor": 2
}
